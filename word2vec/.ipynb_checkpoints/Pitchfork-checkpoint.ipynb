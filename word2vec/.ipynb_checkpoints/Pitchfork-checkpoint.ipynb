{
 "cells": [
  {
   "cell_type": "code",
   "execution_count": 49,
   "metadata": {},
   "outputs": [],
   "source": [
    "import sqlite3 as sql\n",
    "import numpy as np"
   ]
  },
  {
   "cell_type": "code",
   "execution_count": 93,
   "metadata": {},
   "outputs": [],
   "source": [
    "# Connecting to the Kaggle Pitchfork Database \n",
    "db = sql.connect('../../data/pitchfork.sqlite')\n",
    "cursor = db.cursor()\n",
    "\n",
    "artist_dict = {}\n",
    "artist_lookup = {}\n",
    "\n",
    "#An artist class for holding the information\n",
    "class Artist:\n",
    "    def __init__(self, name):\n",
    "        self.name = name\n",
    "        self.reviews = []\n",
    "        self.genres = []\n",
    "        self.scores = []\n",
    "    def add_review(self, review):\n",
    "        self.reviews.append(review)\n",
    "    def add_genre(self, genre):\n",
    "        self.genres.append(genre)\n",
    "    def add_score(self, score):\n",
    "        self.scores.append(score)\n",
    "    def __str__(self):\n",
    "        return self.name\n",
    " \n",
    "\n",
    "cursor.execute('select reviews.reviewid, artist, genre, score from reviews join genres on genres.reviewid = reviews.reviewid')\n",
    "for row in cursor:\n",
    "    if row[1] not in artist_dict:\n",
    "        artist_dict[row[1]] = Artist(row[1])\n",
    "        artist_dict[row[1]].add_review(row[0])\n",
    "        artist_dict[row[1]].add_genre(row[2])\n",
    "        artist_dict[row[1]].add_score(row[3])\n",
    "        artist_lookup[row[1]] = len(artist_lookup)\n",
    "    else: \n",
    "        artists_to_reviews[row[1]].append(row[0])\n",
    "        artist_dict[row[1]].add_genre(row[2])\n",
    "        artist_dict[row[1]].add_score(row[3])"
   ]
  },
  {
   "cell_type": "code",
   "execution_count": 72,
   "metadata": {},
   "outputs": [],
   "source": [
    "genres = {}\n",
    "genre_lookup = {}\n",
    "scores = {}\n",
    "cursor.execute('select distinct genre from genres')\n",
    "for row in cursor:\n",
    "    genre_lookup[len(genre_lookup)] = row[0] \n",
    "    genres[row[0]] = []\n",
    "    \n",
    "for i in range(11):\n",
    "    scores[i] = []\n",
    "    \n",
    "for artist in artist_dict: \n",
    "    artist_lookup\n",
    "    for genre in artist_dict[artist].genres:\n",
    "        genres[genre].append(artist_lookup[artist])\n",
    "    mean_score = np.mean(artist_dict[artist].scores)\n",
    "    scores[round(mean_score)].append(artist_lookup[artist])"
   ]
  },
  {
   "cell_type": "code",
   "execution_count": 104,
   "metadata": {},
   "outputs": [],
   "source": [
    "def gen_batch(genres, scores, size, bias):\n",
    "    xs = np.zeros(shape=(size, 1), dtype=np.int32)\n",
    "    ys = np.zeros(shape=(size, 1), dtype=np.int32)\n",
    "    for idx in range(size):\n",
    "        b = np.random.randint(10)\n",
    "        if b < bias:\n",
    "            genre = np.random.randint(len(genres))\n",
    "            a1 = np.random.randint(len(genres[genre_lookup[genre]]))\n",
    "            a2 = np.random.randint(len(genres[genre_lookup[genre]]))\n",
    "            while a1 == a2:\n",
    "                a2 = np.random.randint(len(genres[genre_lookup[genre]]))\n",
    "            xs[idx][0] = a1\n",
    "            ys[idx][0] = a2\n",
    "        else:\n",
    "            score = np.random.randint(len(scores))\n",
    "            a1 = np.random.randint(len(scores[score]))\n",
    "            a2 = np.random.randint(len(scores[score]))\n",
    "            while a1 == a2:\n",
    "                a2 = np.random.randint(len(scores[score]))\n",
    "            xs[idx][0] = a1\n",
    "            ys[idx][0] = a2\n",
    "    return xs, ys\n",
    "\n",
    "artist_decode = dict(zip(artist_lookup.values(), artist_lookup.keys()))"
   ]
  },
  {
   "cell_type": "code",
   "execution_count": 105,
   "metadata": {},
   "outputs": [
    {
     "ename": "NameError",
     "evalue": "name 'iters' is not defined",
     "output_type": "error",
     "traceback": [
      "\u001b[0;31m---------------------------------------------------------------------------\u001b[0m",
      "\u001b[0;31mNameError\u001b[0m                                 Traceback (most recent call last)",
      "\u001b[0;32m<ipython-input-105-e365e9a41687>\u001b[0m in \u001b[0;36m<module>\u001b[0;34m()\u001b[0m\n\u001b[0;32m----> 1\u001b[0;31m \u001b[0mxs\u001b[0m\u001b[0;34m,\u001b[0m \u001b[0mys\u001b[0m \u001b[0;34m=\u001b[0m \u001b[0mgen_batch\u001b[0m\u001b[0;34m(\u001b[0m\u001b[0mgenres\u001b[0m\u001b[0;34m,\u001b[0m \u001b[0mscores\u001b[0m\u001b[0;34m,\u001b[0m \u001b[0;36m64\u001b[0m\u001b[0;34m,\u001b[0m \u001b[0;36m6\u001b[0m\u001b[0;34m)\u001b[0m\u001b[0;34m\u001b[0m\u001b[0m\n\u001b[0m",
      "\u001b[0;32m<ipython-input-104-568234a92284>\u001b[0m in \u001b[0;36mgen_batch\u001b[0;34m(genres, scores, size, bias)\u001b[0m\n\u001b[1;32m      1\u001b[0m \u001b[0;32mdef\u001b[0m \u001b[0mgen_batch\u001b[0m\u001b[0;34m(\u001b[0m\u001b[0mgenres\u001b[0m\u001b[0;34m,\u001b[0m \u001b[0mscores\u001b[0m\u001b[0;34m,\u001b[0m \u001b[0msize\u001b[0m\u001b[0;34m,\u001b[0m \u001b[0mbias\u001b[0m\u001b[0;34m)\u001b[0m\u001b[0;34m:\u001b[0m\u001b[0;34m\u001b[0m\u001b[0m\n\u001b[0;32m----> 2\u001b[0;31m     \u001b[0mxs\u001b[0m \u001b[0;34m=\u001b[0m \u001b[0mnp\u001b[0m\u001b[0;34m.\u001b[0m\u001b[0mzeros\u001b[0m\u001b[0;34m(\u001b[0m\u001b[0mshape\u001b[0m\u001b[0;34m=\u001b[0m\u001b[0;34m(\u001b[0m\u001b[0miters\u001b[0m\u001b[0;34m,\u001b[0m \u001b[0;36m1\u001b[0m\u001b[0;34m)\u001b[0m\u001b[0;34m,\u001b[0m \u001b[0mdtype\u001b[0m\u001b[0;34m=\u001b[0m\u001b[0mnp\u001b[0m\u001b[0;34m.\u001b[0m\u001b[0mint32\u001b[0m\u001b[0;34m)\u001b[0m\u001b[0;34m\u001b[0m\u001b[0m\n\u001b[0m\u001b[1;32m      3\u001b[0m     \u001b[0mys\u001b[0m \u001b[0;34m=\u001b[0m \u001b[0mnp\u001b[0m\u001b[0;34m.\u001b[0m\u001b[0mzeros\u001b[0m\u001b[0;34m(\u001b[0m\u001b[0mshape\u001b[0m\u001b[0;34m=\u001b[0m\u001b[0;34m(\u001b[0m\u001b[0miters\u001b[0m\u001b[0;34m,\u001b[0m \u001b[0;36m1\u001b[0m\u001b[0;34m)\u001b[0m\u001b[0;34m,\u001b[0m \u001b[0mdtype\u001b[0m\u001b[0;34m=\u001b[0m\u001b[0mnp\u001b[0m\u001b[0;34m.\u001b[0m\u001b[0mint32\u001b[0m\u001b[0;34m)\u001b[0m\u001b[0;34m\u001b[0m\u001b[0m\n\u001b[1;32m      4\u001b[0m     \u001b[0;32mfor\u001b[0m \u001b[0midx\u001b[0m \u001b[0;32min\u001b[0m \u001b[0mrange\u001b[0m\u001b[0;34m(\u001b[0m\u001b[0msize\u001b[0m\u001b[0;34m)\u001b[0m\u001b[0;34m:\u001b[0m\u001b[0;34m\u001b[0m\u001b[0m\n\u001b[1;32m      5\u001b[0m         \u001b[0mb\u001b[0m \u001b[0;34m=\u001b[0m \u001b[0mnp\u001b[0m\u001b[0;34m.\u001b[0m\u001b[0mrandom\u001b[0m\u001b[0;34m.\u001b[0m\u001b[0mrandint\u001b[0m\u001b[0;34m(\u001b[0m\u001b[0;36m10\u001b[0m\u001b[0;34m)\u001b[0m\u001b[0;34m\u001b[0m\u001b[0m\n",
      "\u001b[0;31mNameError\u001b[0m: name 'iters' is not defined"
     ]
    }
   ],
   "source": [
    "xs, ys = gen_batch(genres, scores, 64, 6)"
   ]
  },
  {
   "cell_type": "code",
   "execution_count": 102,
   "metadata": {},
   "outputs": [],
   "source": [
    "#Before we dive in we need to declare some variables\n",
    "vocabulary_size = len(artist_lookup)\n",
    "#How big we want our final vectors to be\n",
    "embedding_size = 64\n",
    "#The number of training samples passed per epoch\n",
    "batchsize = 64\n",
    "#Number of negative samples to use in NCE [see below]\n",
    "num_sampled = 16"
   ]
  },
  {
   "cell_type": "code",
   "execution_count": 103,
   "metadata": {},
   "outputs": [],
   "source": [
    "#BAND2VEC - Tensorflow Time!\n",
    "import tensorflow as tf\n",
    "import math \n",
    "\n",
    "graph = tf.Graph()\n",
    "\n",
    "with graph.as_default():\n",
    "    #Defining variables and functions in a scope is good practice\n",
    "    with tf.name_scope('inputs'):\n",
    "        #Tensorflow Placeholders are the mouths of the neural network - they will constantly be fed new information\n",
    "        training_inputs = tf.placeholder(tf.int32, shape=[batchsize])\n",
    "        training_labels = tf.placeholder(tf.int32, shape=[batchsize, 1])\n",
    "        \n",
    "   #Using the CPU\n",
    "    with tf.device('/cpu:0'):\n",
    "        with tf.name_scope('embeddings'):\n",
    "            #The embeddings - variables are maintained across runs and need to be initialised with a shape and type\n",
    "            #Each row is a band represented by a vector of length 'embedding_size'\n",
    "            embeddings = tf.Variable(tf.random_uniform([vocabulary_size, embedding_size], -1.0, 1.0))\n",
    "            #Like passing muliple indices to a numpy array we get the vectors quickly with this function\n",
    "            embed = tf.nn.embedding_lookup(embeddings, training_inputs)\n",
    "            \n",
    "        with tf.name_scope('weights'):\n",
    "            #Like embeddings we initialise our weights and also...\n",
    "            nce_weights = tf.Variable(\n",
    "                tf.truncated_normal(\n",
    "                    [vocabulary_size, embedding_size],\n",
    "                    stddev=1.0 / math.sqrt(embedding_size)))\n",
    "            \n",
    "        with tf.name_scope('biases'):\n",
    "            #...our biases\n",
    "            nce_biases = tf.Variable(tf.zeros([vocabulary_size]))\n",
    "            \n",
    "    with tf.name_scope('loss'):\n",
    "        #Finally our loss function - see below for an explanation of the Noise Contrastive Estimation Approach\n",
    "        loss = tf.reduce_mean(\n",
    "            tf.nn.nce_loss(\n",
    "                weights=nce_weights,\n",
    "                biases=nce_biases,\n",
    "                labels=training_labels,\n",
    "                inputs=embed,\n",
    "                num_sampled=num_sampled,\n",
    "                num_classes=vocabulary_size))\n",
    "        \n",
    "    with tf.name_scope('optimizer'):\n",
    "        optimizer = tf.train.GradientDescentOptimizer(1.0).minimize(loss)"
   ]
  },
  {
   "cell_type": "code",
   "execution_count": null,
   "metadata": {},
   "outputs": [],
   "source": []
  }
 ],
 "metadata": {
  "kernelspec": {
   "display_name": "Python 3",
   "language": "python",
   "name": "python3"
  },
  "language_info": {
   "codemirror_mode": {
    "name": "ipython",
    "version": 3
   },
   "file_extension": ".py",
   "mimetype": "text/x-python",
   "name": "python",
   "nbconvert_exporter": "python",
   "pygments_lexer": "ipython3",
   "version": "3.6.3"
  }
 },
 "nbformat": 4,
 "nbformat_minor": 2
}
