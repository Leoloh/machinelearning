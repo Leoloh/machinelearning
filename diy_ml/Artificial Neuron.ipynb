{
 "cells": [
  {
   "cell_type": "markdown",
   "metadata": {},
   "source": [
    "## An Artificial Neuron\n",
    "The neuron is seen as a unit or a function much like a mathematical function which takes some inputs and provides some output (sometimes called an activation - again think 'the brain'). The artificial neuron is the name given to a computational model of the biologic neuron. The artifical neuron accepts N + 1 inputs labeled $x_{0}$ to $x_{n}$ where the zeroth inputs is given a value of 1 (to represent a bias) and the rest are features of our input data. Each input also has an associated weight to it ($w_{0}$ to $w_{n}$)\n",
    "\n",
    "The neuron processes the inputs and weights by performing their dot product for all inputs.\n",
    "$ \\sum_{j=0}^{n} w_{j}x_{j} $ (sometimes the weight will be given a second index for the different layers of the Neural Network)\n",
    "\n",
    "This produces a scalar value which can then be passed to an 'activation function' which is often a sigmoid function (see below) and this produces the output."
   ]
  },
  {
   "cell_type": "code",
   "execution_count": 113,
   "metadata": {},
   "outputs": [],
   "source": [
    "import numpy as np\n",
    "import math\n",
    "from pprint import pprint\n",
    "\n",
    "#A simple model to show a neuron learning. Imagine we are rolling a dice and the outcome\n",
    "# is represented by an array of 0s and a 1 in the place of the dice roll. If it is in the sixth place you win.\n",
    "\n",
    "def random_roll():\n",
    "    roll = np.random.randint(0, 6)\n",
    "    array = np.zeros(6)\n",
    "    array[roll] = 1\n",
    "    return array\n",
    "\n",
    "def generate_dataset(n):\n",
    "    dataset = []\n",
    "    for i in range(n):\n",
    "        label = 0\n",
    "        rr = random_roll()\n",
    "        if rr[5] == 1:\n",
    "            label = 1\n",
    "        dataset.append((rr, label))\n",
    "    return dataset\n",
    "\n",
    "class Neuron:\n",
    "    def __init__(self, input_size):\n",
    "        self.inp = 0\n",
    "        self.weights = np.random.rand(input_size)\n",
    "        self.inputs = []\n",
    "    def sigmoid(self, x):\n",
    "        e_x = math.e ** x\n",
    "        return (e_x)/(e_x + 1)\n",
    "    def guess(self, inputs):\n",
    "        self.inputs = inputs\n",
    "        self.inp = np.dot(inputs, self.weights)\n",
    "        return self.sigmoid(self.inp)\n",
    "    def backpropagate(self, loss, guess):\n",
    "        output_derivative = loss - guess\n",
    "        output_input = (self.sigmoid(self.inp)*(1-self.sigmoid(self.inp)))\n",
    "        for w in range(len(self.weights)): \n",
    "            self.weights[w] += self.weights[w]*output_derivative*output_input*self.inputs[w]\n",
    "\n",
    "def squared_difference(guess, true_value):\n",
    "    return ((true_value - guess) ** 2) / 2\n",
    "    \n",
    "def train_neuron(neuron, dataset):\n",
    "    for data in dataset:\n",
    "        guess = neuron.guess(data[0])\n",
    "        loss = squared_difference(data[1], guess)\n",
    "        neuron.backpropagate(data[1], guess)\n",
    "    \n",
    "neuron = Neuron(6)\n",
    "dataset = generate_dataset(1000)\n",
    "\n",
    "train_neuron(neuron, dataset[:800])"
   ]
  },
  {
   "cell_type": "code",
   "execution_count": 120,
   "metadata": {},
   "outputs": [
    {
     "data": {
      "text/plain": [
       "0.5"
      ]
     },
     "execution_count": 120,
     "metadata": {},
     "output_type": "execute_result"
    }
   ],
   "source": [
    "neuron.guess([1, 0, 1, 0, 1, 0])"
   ]
  },
  {
   "cell_type": "code",
   "execution_count": null,
   "metadata": {},
   "outputs": [],
   "source": []
  },
  {
   "cell_type": "code",
   "execution_count": null,
   "metadata": {},
   "outputs": [],
   "source": []
  }
 ],
 "metadata": {
  "kernelspec": {
   "display_name": "Python 3",
   "language": "python",
   "name": "python3"
  },
  "language_info": {
   "codemirror_mode": {
    "name": "ipython",
    "version": 3
   },
   "file_extension": ".py",
   "mimetype": "text/x-python",
   "name": "python",
   "nbconvert_exporter": "python",
   "pygments_lexer": "ipython3",
   "version": "3.6.3"
  }
 },
 "nbformat": 4,
 "nbformat_minor": 2
}
