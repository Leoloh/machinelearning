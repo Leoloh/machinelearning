{
 "cells": [
  {
   "cell_type": "code",
   "execution_count": 5,
   "metadata": {},
   "outputs": [],
   "source": [
    "import numpy as np\n",
    "from bs4 import BeautifulSoup\n",
    "import tensorflow as tf\n",
    "import urllib"
   ]
  },
  {
   "cell_type": "code",
   "execution_count": 61,
   "metadata": {},
   "outputs": [],
   "source": [
    "class MP:\n",
    "    def __init__(self, name, twitter_handle, party):\n",
    "        self.name = name;\n",
    "        self.twitter_handle = twitter_handle\n",
    "        self.party = party\n",
    "        self.tweets = []\n",
    "    def addTweet(self, tweet):\n",
    "        self.tweets.append(tweet)\n",
    "    def __str__(self):\n",
    "        return 'Name: %s, TW: %s, Party: %s' % (self.name, self.twitter_handle, self.party)\n",
    "        \n",
    "list_of_mps = []\n",
    "\n",
    "url = 'https://www.mpsontwitter.co.uk/list'\n",
    "with urllib.request.urlopen(url) as doc:\n",
    "    soup = BeautifulSoup(doc, 'html.parser')\n",
    "    rows = soup.find_all('tr')\n",
    "    for i in range(2,len(rows)):\n",
    "        party = rows[i].find('td')['class'][0]\n",
    "        twitter_handle = rows[i].find('a').getText()\n",
    "        name = rows[i].find_all('td')[2].getText()\n",
    "        list_of_mps.append(MP(name, twitter_handle, party))\n",
    "        "
   ]
  },
  {
   "cell_type": "code",
   "execution_count": null,
   "metadata": {},
   "outputs": [],
   "source": [
    "for mp in list_of_mps:\n",
    "    "
   ]
  }
 ],
 "metadata": {
  "kernelspec": {
   "display_name": "Python 3",
   "language": "python",
   "name": "python3"
  },
  "language_info": {
   "codemirror_mode": {
    "name": "ipython",
    "version": 3
   },
   "file_extension": ".py",
   "mimetype": "text/x-python",
   "name": "python",
   "nbconvert_exporter": "python",
   "pygments_lexer": "ipython3",
   "version": "3.6.3"
  }
 },
 "nbformat": 4,
 "nbformat_minor": 2
}
